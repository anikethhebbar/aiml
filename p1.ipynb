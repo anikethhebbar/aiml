{
 "cells": [
  {
   "cell_type": "code",
   "execution_count": 4,
   "id": "b8ca4309",
   "metadata": {
    "scrolled": true
   },
   "outputs": [
    {
     "name": "stdout",
     "output_type": "stream",
     "text": [
      "IRIS DATASET LOADED\n",
      "\n",
      " IRIS Features ['setosa' 'versicolor' 'virginica']\n",
      "Dataset is split into training and test data\n",
      "Size of training data and its label (135, 4) (135,)\n",
      "Size of testing data and its label (15, 4) (15,)\n",
      "TARGET = 1 versicolor PREDICTED = [1] ['versicolor']\n",
      "TARGET = 0 setosa PREDICTED = [0] ['setosa']\n",
      "TARGET = 0 setosa PREDICTED = [0] ['setosa']\n",
      "TARGET = 2 virginica PREDICTED = [2] ['virginica']\n",
      "TARGET = 0 setosa PREDICTED = [0] ['setosa']\n",
      "TARGET = 1 versicolor PREDICTED = [1] ['versicolor']\n",
      "TARGET = 0 setosa PREDICTED = [0] ['setosa']\n",
      "TARGET = 2 virginica PREDICTED = [2] ['virginica']\n",
      "TARGET = 1 versicolor PREDICTED = [1] ['versicolor']\n",
      "TARGET = 2 virginica PREDICTED = [2] ['virginica']\n",
      "TARGET = 0 setosa PREDICTED = [0] ['setosa']\n",
      "TARGET = 0 setosa PREDICTED = [0] ['setosa']\n",
      "TARGET = 0 setosa PREDICTED = [0] ['setosa']\n",
      "TARGET = 2 virginica PREDICTED = [2] ['virginica']\n",
      "TARGET = 1 versicolor PREDICTED = [1] ['versicolor']\n",
      "1.0\n"
     ]
    }
   ],
   "source": [
    "# Import necessary libraries\n",
    "import pandas as pd\n",
    "import numpy as np\n",
    "from sklearn.neighbors import KNeighborsClassifier\n",
    "from sklearn import datasets\n",
    "from sklearn.model_selection import train_test_split\n",
    "\n",
    "# Load the Iris dataset\n",
    "iris = datasets.load_iris()\n",
    "print(\"IRIS DATASET LOADED\")\n",
    "\n",
    "# Print the target names (classes) in the Iris dataset\n",
    "print(\"\\n IRIS Features\", iris.target_names)\n",
    "\n",
    "# Split the dataset into training and testing data (90% training, 10% testing)\n",
    "X_train, X_test, y_train, y_test = train_test_split(iris.data, iris.target, test_size=0.10)\n",
    "print(\"Dataset is split into training and test data\")\n",
    "\n",
    "# Print the size of the training and testing datasets\n",
    "print(\"Size of training data and its label\", X_train.shape, y_train.shape)\n",
    "print(\"Size of testing data and its label\", X_test.shape, y_test.shape)\n",
    "\n",
    "# Create a K-Nearest Neighbors classifier with k=1\n",
    "kn = KNeighborsClassifier(n_neighbors=1)\n",
    "\n",
    "# Fit the K-Nearest Neighbors classifier to the training data\n",
    "kn.fit(X_train, y_train)\n",
    "\n",
    "# Loop through the testing data and make predictions for each sample\n",
    "for i in range(len(X_test)):\n",
    "    X = X_test[i]\n",
    "    X_new = np.array([X])\n",
    "    prediction = kn.predict(X_new)\n",
    "    \n",
    "    # Print the true target, the predicted target, and their corresponding class names\n",
    "    print(\"TARGET =\", y_test[i], iris[\"target_names\"][y_test[i]], \"PREDICTED =\", prediction, iris[\"target_names\"][prediction])\n",
    "    \n",
    "# Calculate and print the accuracy of the K-Nearest Neighbors classifier on the testing data\n",
    "print(kn.score(X_test, y_test))\n"
   ]
  }
 ],
 "metadata": {
  "kernelspec": {
   "display_name": "Python 3 (ipykernel)",
   "language": "python",
   "name": "python3"
  },
  "language_info": {
   "codemirror_mode": {
    "name": "ipython",
    "version": 3
   },
   "file_extension": ".py",
   "mimetype": "text/x-python",
   "name": "python",
   "nbconvert_exporter": "python",
   "pygments_lexer": "ipython3",
   "version": "3.8.16"
  }
 },
 "nbformat": 4,
 "nbformat_minor": 5
}
